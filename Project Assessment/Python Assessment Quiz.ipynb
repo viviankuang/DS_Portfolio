{
 "cells": [
  {
   "cell_type": "markdown",
   "metadata": {},
   "source": [
    "<center>\n",
    "    <img src=\"https://weclouddata.s3.amazonaws.com/images/logos/wcd_logo_new_2.png\" width='25%'> \n",
    "</center>\n",
    "\n",
    "----------\n",
    "\n",
    "<center><h1>Python Assessment Quiz</h1></center>"
   ]
  },
  {
   "cell_type": "markdown",
   "metadata": {},
   "source": [
    "## Instructions\n",
    "- For each of the questions below, write a function that accepts an input and produces the desired result\n",
    "<br>\n",
    "<br> <b>Example question</b>: Write a function to check if an integer is even/odd?\n",
    "<br> <b>Example Input1</b>: 15\n",
    "<br> <b>Expected Output1</b>: Odd\n",
    "    <br> <b>Example Input2</b>: 20\n",
    "    <br> <b>Expected Output2</b>: Even"
   ]
  },
  {
   "cell_type": "markdown",
   "metadata": {},
   "source": [
    "## Question 1\n",
    "### Determine whether an integer is a palindrome. An integer is a palidrome when it reads the same backwards and forwards.\n",
    "\n",
    "Example: 121 is a palindrome but 123 is not"
   ]
  },
  {
   "cell_type": "code",
   "execution_count": 3,
   "metadata": {},
   "outputs": [],
   "source": [
    "input1_1 = 121\n",
    "input1_2 = 123\n",
    "input1_3 = 34543\n",
    "input1_4 = 123456"
   ]
  },
  {
   "cell_type": "code",
   "execution_count": 6,
   "metadata": {},
   "outputs": [
    {
     "name": "stdout",
     "output_type": "stream",
     "text": [
      "input1_1 = 121 is a palindrome.\n",
      "input1_2 = 123 is not a palindrome.\n",
      "input1_3 = 34543 is a palindrome.\n",
      "input1_4 = 123456 is not a palindrome.\n"
     ]
    }
   ],
   "source": [
    "# Define the is_palindrome function\n",
    "def is_palindrome(num):\n",
    "    # Convert the integer to a string\n",
    "    num_str = str(num)\n",
    "    \n",
    "    # Check if the string is the same in reverse\n",
    "    return num_str == num_str[::-1]\n",
    "\n",
    "# Test the inputs above \n",
    "inputs = [121, 123, 34543, 123456]\n",
    "\n",
    "for index, num in enumerate(inputs, start=1):\n",
    "    if is_palindrome(num):\n",
    "        print(f\"input1_{index} = {num} is a palindrome.\")\n",
    "    else:\n",
    "        print(f\"input1_{index} = {num} is not a palindrome.\")\n",
    "\n",
    "        \n",
    "        \n",
    "# # solution 2: Test the function for any input integer \n",
    "\n",
    "# input_integer = int(input(\"Enter an integer: \"))\n",
    "# if is_palindrome(input_integer):\n",
    "#     print(f\"{input_integer} is a palindrome.\")\n",
    "# else:\n",
    "#     print(f\"{input_integer} is not a palindrome.\")\n",
    "    "
   ]
  },
  {
   "cell_type": "markdown",
   "metadata": {},
   "source": [
    "## Question 2\n",
    "### Given an integer <i>n</i>, return true if it is a power of two. Otherwise, return false.\n",
    "### An integer <i>n</i> is a power of two, if there exists an integer <i>x</i> such that <u>n == 2</u><sup>x</sup>\n",
    "<b>Constraints</b>: -2<sup>31</sup> <= n <= 2<sup>31</sup>-1"
   ]
  },
  {
   "cell_type": "code",
   "execution_count": null,
   "metadata": {},
   "outputs": [],
   "source": [
    "input2_1 = 1\n",
    "input2_2 = 2\n",
    "input2_3 = 3\n",
    "input2_4 = 4\n",
    "input2_5 = 8"
   ]
  },
  {
   "cell_type": "code",
   "execution_count": 16,
   "metadata": {},
   "outputs": [
    {
     "name": "stdout",
     "output_type": "stream",
     "text": [
      "Enter an integer: -2147483648\n",
      "-2147483648 is not a power of two.\n"
     ]
    }
   ],
   "source": [
    "# Define the power of 2: is_power_of_two function\n",
    "def is_power_of_two(n):\n",
    "    return n > 0 and (n & (n - 1)) == 0\n",
    "\n",
    "# Test the function with input values to test scope effectiveness\n",
    "input_integer = int(input(\"Enter an integer: \"))\n",
    "\n",
    "if -2 ** 31 <= input_integer <= (2 ** 31)-1:\n",
    "    if is_power_of_two(input_integer):\n",
    "        print(f\"{input_integer} is a power of two.\")\n",
    "    else:\n",
    "        print(f\"{input_integer} is not a power of two.\")\n",
    "else:\n",
    "    print(\"Invalid input. The integer must be within the range -2^31 to 2^31-1.\")\n"
   ]
  },
  {
   "cell_type": "markdown",
   "metadata": {},
   "source": [
    "## Question 3\n",
    "### Given an array <i>A</i> of strings made only from lowercase letters, return a list of all characters that show up in all strings within the list (including duplicates). For example, if a character occurs 3 times in all strings but not 4 times, you need to include that character three times in the final answer.\n",
    "### You may return the answer in any order.\n",
    "<b>Note</b>:\n",
    "- 1 <= A.length <= 100\n",
    "- 1 <= A[i].length <= 100\n",
    "- A[i][j] is a lowercase letter\n",
    "\n",
    "Example: Input = ['bella','label', roller], Output = ['e', 'l', 'l']"
   ]
  },
  {
   "cell_type": "code",
   "execution_count": null,
   "metadata": {},
   "outputs": [],
   "source": [
    "input3_1 = ['bella','label','roller']\n",
    "input3_2 = ['happy','chopper','phase']\n",
    "input3_3 = ['truth','true','try']"
   ]
  },
  {
   "cell_type": "code",
   "execution_count": 18,
   "metadata": {},
   "outputs": [
    {
     "name": "stdout",
     "output_type": "stream",
     "text": [
      "['l', 'l', 'e']\n",
      "['p', 'h']\n",
      "['r', 't']\n"
     ]
    }
   ],
   "source": [
    "# Define find recall character: common_chars function\n",
    "def common_chars(A):\n",
    "    # Initialize the set with all characters from the first string\n",
    "    common_chars_set = set(A[0])\n",
    "    \n",
    "    # Iterate through the rest of the strings and find the intersection\n",
    "    for s in A[1:]:\n",
    "        common_chars_set = common_chars_set.intersection(set(s))\n",
    "    \n",
    "    # Initialize the result list to store the common characters\n",
    "    result = []\n",
    "    \n",
    "    # Count the occurrences of each common character and add it to the result list\n",
    "    for char in common_chars_set:\n",
    "        count = min(s.count(char) for s in A)\n",
    "        result.extend([char] * count)\n",
    "    \n",
    "    return result\n",
    "\n",
    "# Test the function\n",
    "input3_1 = [\"bella\", \"label\", \"roller\"]\n",
    "print(common_chars(input3_1))  # Output: ['e', 'l', 'l']\n",
    "input3_2 = ['happy','chopper','phase']\n",
    "print(common_chars(input3_2))\n",
    "input3_3 = ['truth','true','try']\n",
    "print(common_chars(input3_3))\n"
   ]
  },
  {
   "cell_type": "markdown",
   "metadata": {},
   "source": [
    "## Question 4\n",
    "### Given a string, find the first non-repeating character in it and return its index. If it doesn't exist, return -1.\n",
    "<b>Note</b>: You may assume the string contains only lowercase English letters.\n",
    "<br>Example: s = 'leetcode' return 0\n",
    "<br>Explanation: The first non-repeating letter is l, it has the index of 0"
   ]
  },
  {
   "cell_type": "code",
   "execution_count": null,
   "metadata": {},
   "outputs": [],
   "source": [
    "input4_1 = 'leetcode'\n",
    "input4_2 = 'adam'\n",
    "input4_3 = 'sees'\n",
    "input4_4 = 'noone'"
   ]
  },
  {
   "cell_type": "code",
   "execution_count": 19,
   "metadata": {},
   "outputs": [
    {
     "name": "stdout",
     "output_type": "stream",
     "text": [
      "0\n",
      "1\n",
      "-1\n",
      "4\n"
     ]
    }
   ],
   "source": [
    "# Define find first unique character: first_unique_char function\n",
    "def first_unique_char(s):\n",
    "    char_count = {}\n",
    "    \n",
    "    # Count the occurrences of each character in the string\n",
    "    for char in s:\n",
    "        char_count[char] = char_count.get(char, 0) + 1\n",
    "    \n",
    "    # Find the first non-repeating character and return its index\n",
    "    for i, char in enumerate(s):\n",
    "        if char_count[char] == 1:\n",
    "            return i\n",
    "    \n",
    "    # If no non-repeating character is found, return -1\n",
    "    return -1\n",
    "\n",
    "# Test the function\n",
    "input4_1 = 'leetcode'\n",
    "input4_2 = 'adam'\n",
    "input4_3 = 'sees'\n",
    "input4_4 = 'noone'\n",
    "\n",
    "print(first_unique_char(input4_1))  # Output: 0 (The first non-repeating character 'l' at index 0)\n",
    "print(first_unique_char(input4_2))  # Output: 0 (The first non-repeating character 'a' at index 0)\n",
    "print(first_unique_char(input4_3))  # Output: 0 (The first non-repeating character 's' at index 0)\n",
    "print(first_unique_char(input4_4))  # Output: 2 (The first non-repeating character 'o' at index 2)\n"
   ]
  },
  {
   "cell_type": "markdown",
   "metadata": {},
   "source": [
    "## Question 5\n",
    "### Given a binary array, find the maximum number of consecutive 1s in this array.\n",
    "<b>Note</b>:\n",
    "- The input array will only contain 0 and 1.\n",
    "- The length of input array is a positive integer and will not exceed 10,000\n",
    "<br>Example: Input = [1,1,0,1,1,1], Output = 3\n",
    "<br>Explanation:\n",
    "- The first two digits or the last three digits are consecutive 1s\n",
    "- The maximum number of consecutive 1s is 3"
   ]
  },
  {
   "cell_type": "code",
   "execution_count": null,
   "metadata": {},
   "outputs": [],
   "source": [
    "input5_1 = [1,1,0,1,1,1]\n",
    "input5_2 = [1,0,1,0,1,0,1,1,1,0,1,1]\n",
    "input5_3 = [0,0,1,1,1,0,0,0,0,1,1]"
   ]
  },
  {
   "cell_type": "code",
   "execution_count": 26,
   "metadata": {},
   "outputs": [
    {
     "name": "stdout",
     "output_type": "stream",
     "text": [
      "3\n",
      "The length of array exceed the maximum limit 10000: \n",
      "1\n"
     ]
    }
   ],
   "source": [
    "# Define the find max consecutive ones: find_max_consecutive_ones function\n",
    "def find_max_consecutive_ones(nums):\n",
    "    max_consecutive_ones = 0\n",
    "    current_consecutive_ones = 0\n",
    "    \n",
    "    if len(nums) > 10000: #test with 10 result: The length of array exceed the maximum limit 10000: \n",
    "        return \"The length of array exceed the maximum limit 10000: \" #print(\"The length of array exceed the maximum limit 10000: \",len(nums))\n",
    "    else:\n",
    "        for num in nums:\n",
    "            if num == 1:\n",
    "                current_consecutive_ones += 1\n",
    "                max_consecutive_ones = max(max_consecutive_ones, current_consecutive_ones)\n",
    "            else:\n",
    "                current_consecutive_ones = 0\n",
    "        return max_consecutive_ones\n",
    "\n",
    "# Test the function\n",
    "input_array1 = [1, 1, 0, 1, 1, 1]\n",
    "input_array2 = [0, 0, 0, 0, 1, 1, 1, 1, 1, 0, 1, 1]\n",
    "input_array3 = [1, 0, 1, 0, 1, 0, 1, 0]\n",
    "\n",
    "print(find_max_consecutive_ones(input_array1))  # Output: 3 (Consecutive 1s: [1, 1, 1])\n",
    "print(find_max_consecutive_ones(input_array2))  # Output: 5 (Consecutive 1s: [1, 1, 1, 1, 1])\n",
    "print(find_max_consecutive_ones(input_array3))  # Output: 1 (Consecutive 1s: [1])\n"
   ]
  },
  {
   "cell_type": "code",
   "execution_count": null,
   "metadata": {},
   "outputs": [],
   "source": []
  }
 ],
 "metadata": {
  "kernelspec": {
   "display_name": "Python 3 (ipykernel)",
   "language": "python",
   "name": "python3"
  },
  "language_info": {
   "codemirror_mode": {
    "name": "ipython",
    "version": 3
   },
   "file_extension": ".py",
   "mimetype": "text/x-python",
   "name": "python",
   "nbconvert_exporter": "python",
   "pygments_lexer": "ipython3",
   "version": "3.10.9"
  }
 },
 "nbformat": 4,
 "nbformat_minor": 4
}
